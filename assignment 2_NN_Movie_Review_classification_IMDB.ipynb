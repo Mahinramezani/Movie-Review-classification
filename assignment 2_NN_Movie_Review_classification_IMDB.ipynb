{
 "cells": [
  {
   "cell_type": "code",
   "execution_count": 1,
   "metadata": {
    "colab": {
     "base_uri": "https://localhost:8080/",
     "height": 853
    },
    "colab_type": "code",
    "id": "jkz_M3WMjIug",
    "outputId": "3bfef3ef-0b82-434c-e46f-9f272a201b42"
   },
   "outputs": [
    {
     "name": "stderr",
     "output_type": "stream",
     "text": [
      "Using TensorFlow backend.\n"
     ]
    },
    {
     "name": "stdout",
     "output_type": "stream",
     "text": [
      "WARNING:tensorflow:From /usr/local/lib/python3.6/dist-packages/tensorflow/python/framework/op_def_library.py:263: colocate_with (from tensorflow.python.framework.ops) is deprecated and will be removed in a future version.\n",
      "Instructions for updating:\n",
      "Colocations handled automatically by placer.\n",
      "WARNING:tensorflow:From /usr/local/lib/python3.6/dist-packages/tensorflow/python/ops/math_ops.py:3066: to_int32 (from tensorflow.python.ops.math_ops) is deprecated and will be removed in a future version.\n",
      "Instructions for updating:\n",
      "Use tf.cast instead.\n",
      "Train on 15000 samples, validate on 10000 samples\n",
      "Epoch 1/20\n",
      "15000/15000 [==============================] - 2s 138us/step - loss: 0.5048 - acc: 0.7872 - val_loss: 0.3775 - val_acc: 0.8703\n",
      "Epoch 2/20\n",
      "15000/15000 [==============================] - 2s 124us/step - loss: 0.2991 - acc: 0.9049 - val_loss: 0.3001 - val_acc: 0.8897\n",
      "Epoch 3/20\n",
      "15000/15000 [==============================] - 2s 125us/step - loss: 0.2173 - acc: 0.9283 - val_loss: 0.3081 - val_acc: 0.8714\n",
      "Epoch 4/20\n",
      "15000/15000 [==============================] - 2s 124us/step - loss: 0.1747 - acc: 0.9439 - val_loss: 0.2826 - val_acc: 0.8843\n",
      "Epoch 5/20\n",
      "15000/15000 [==============================] - 2s 124us/step - loss: 0.1422 - acc: 0.9540 - val_loss: 0.2855 - val_acc: 0.8858\n",
      "Epoch 6/20\n",
      "15000/15000 [==============================] - 2s 126us/step - loss: 0.1147 - acc: 0.9651 - val_loss: 0.3141 - val_acc: 0.8779\n",
      "Epoch 7/20\n",
      "15000/15000 [==============================] - 2s 125us/step - loss: 0.0977 - acc: 0.9709 - val_loss: 0.3131 - val_acc: 0.8840\n",
      "Epoch 8/20\n",
      "15000/15000 [==============================] - 2s 124us/step - loss: 0.0805 - acc: 0.9766 - val_loss: 0.3862 - val_acc: 0.8656\n",
      "Epoch 9/20\n",
      "15000/15000 [==============================] - 2s 124us/step - loss: 0.0660 - acc: 0.9820 - val_loss: 0.3641 - val_acc: 0.8778\n",
      "Epoch 10/20\n",
      "15000/15000 [==============================] - 2s 123us/step - loss: 0.0561 - acc: 0.9846 - val_loss: 0.3852 - val_acc: 0.8781\n",
      "Epoch 11/20\n",
      "15000/15000 [==============================] - 2s 124us/step - loss: 0.0435 - acc: 0.9903 - val_loss: 0.4173 - val_acc: 0.8767\n",
      "Epoch 12/20\n",
      "15000/15000 [==============================] - 2s 123us/step - loss: 0.0384 - acc: 0.9914 - val_loss: 0.4556 - val_acc: 0.8700\n",
      "Epoch 13/20\n",
      "15000/15000 [==============================] - 2s 123us/step - loss: 0.0299 - acc: 0.9929 - val_loss: 0.4698 - val_acc: 0.8735\n",
      "Epoch 14/20\n",
      "15000/15000 [==============================] - 2s 123us/step - loss: 0.0251 - acc: 0.9945 - val_loss: 0.5034 - val_acc: 0.8722\n",
      "Epoch 15/20\n",
      "15000/15000 [==============================] - 2s 122us/step - loss: 0.0174 - acc: 0.9984 - val_loss: 0.5373 - val_acc: 0.8693\n",
      "Epoch 16/20\n",
      "15000/15000 [==============================] - 2s 123us/step - loss: 0.0157 - acc: 0.9977 - val_loss: 0.5785 - val_acc: 0.8686\n",
      "Epoch 17/20\n",
      "15000/15000 [==============================] - 2s 122us/step - loss: 0.0105 - acc: 0.9991 - val_loss: 0.6329 - val_acc: 0.8631\n",
      "Epoch 18/20\n",
      "15000/15000 [==============================] - 2s 123us/step - loss: 0.0124 - acc: 0.9971 - val_loss: 0.6432 - val_acc: 0.8674\n",
      "Epoch 19/20\n",
      "15000/15000 [==============================] - 2s 123us/step - loss: 0.0053 - acc: 0.9998 - val_loss: 0.7254 - val_acc: 0.8565\n",
      "Epoch 20/20\n",
      "15000/15000 [==============================] - 2s 124us/step - loss: 0.0098 - acc: 0.9981 - val_loss: 0.7008 - val_acc: 0.8656\n"
     ]
    }
   ],
   "source": [
    "import numpy as np\n",
    "from keras.datasets import imdb\n",
    "from keras import models\n",
    "from keras import layers\n",
    "import matplotlib.pyplot as plt\n",
    "\n",
    "# load the data\n",
    "(X_train, Y_train), (X_test, Y_test) = imdb.load_data(num_words = 10000)\n",
    "\n",
    "\n",
    "# prepare the data\n",
    "def vectorize_data(x, dimension=10000):\n",
    "  result = np.zeros((len(x), dimension))\n",
    "  for i, word in enumerate(x):\n",
    "    result[i, word] = 1\n",
    "  return result\n",
    "\n",
    "x_train = vectorize_data(X_train)\n",
    "x_test = vectorize_data(X_test)\n",
    "\n",
    "y_train = np.asarray(Y_train).astype('float32')\n",
    "y_test = np.asarray(Y_test).astype('float32')\n",
    "\n",
    "\n",
    "# partition train data into training set and validation set\n",
    "x_val = x_train[:10000]\n",
    "partial_x_train = x_train[10000:]\n",
    "y_val = y_train[:10000]\n",
    "partial_y_train = y_train[10000:]\n",
    "\n",
    "\n",
    "# build the NN\n",
    "network = models.Sequential()\n",
    "network.add(layers.Dense(16, activation = 'relu', input_shape=(10000,)))\n",
    "network.add(layers.Dense(16, activation = 'relu'))\n",
    "network.add(layers.Dense(1, activation = 'sigmoid'))\n",
    "\n",
    "\n",
    "# choose loss function, optimizer, and target metrics\n",
    "network.compile(optimizer = 'rmsprop',\n",
    "               loss = 'binary_crossentropy',\n",
    "               metrics = ['accuracy'])\n",
    "\n",
    "\n",
    "# train the NN\n",
    "history = network.fit(partial_x_train,\n",
    "                     partial_y_train,\n",
    "                     epochs = 20,\n",
    "                     batch_size = 512,\n",
    "                     validation_data = (x_val, y_val))\n"
   ]
  },
  {
   "cell_type": "code",
   "execution_count": 2,
   "metadata": {
    "colab": {
     "base_uri": "https://localhost:8080/",
     "height": 376
    },
    "colab_type": "code",
    "id": "WY2wB_SLtexk",
    "outputId": "9a281e53-0dcd-43b7-e2ee-05e34eef7c5c"
   },
   "outputs": [
    {
     "data": {
      "image/png": "[encoded data removed]",
      "text/plain": [
       "<Figure size 576x396 with 1 Axes>"
      ]
     },
     "metadata": {
      "tags": []
     },
     "output_type": "display_data"
    }
   ],
   "source": [
    "# plotting the training and validation loss\n",
    "\n",
    "epochs = range(1,21)\n",
    "plt.plot(epochs, history.history['loss'], 'bo', label = 'training loss')\n",
    "plt.plot(epochs, history.history['val_loss'], 'b', label = 'validation loss')\n",
    "plt.title('Training and validation loss')\n",
    "plt.ylabel('loss')\n",
    "plt.xlabel('epochs')\n",
    "plt.legend()\n",
    "plt.show()"
   ]
  },
  {
   "cell_type": "code",
   "execution_count": 3,
   "metadata": {
    "colab": {
     "base_uri": "https://localhost:8080/",
     "height": 376
    },
    "colab_type": "code",
    "id": "aW9KMObHbOOP",
    "outputId": "74606fd8-c9f5-4adb-eafa-205f7ca41a0b"
   },
   "outputs": [
    {
     "data": {
      "image/png": "[encoded data removed]",
      "text/plain": [
       "<Figure size 576x396 with 1 Axes>"
      ]
     },
     "metadata": {
      "tags": []
     },
     "output_type": "display_data"
    }
   ],
   "source": [
    "# plotting the training and validation accuracy\n",
    "\n",
    "epochs = range(1,21)\n",
    "plt.plot(epochs, history.history['acc'], 'go', label = 'training accuracy')\n",
    "plt.plot(epochs, history.history['val_acc'], 'g', label = 'validation accuracy')\n",
    "plt.title('Training and validation accuracy')\n",
    "plt.ylabel('accuracy')\n",
    "plt.xlabel('epochs')\n",
    "plt.legend()\n",
    "plt.show()"
   ]
  },
  {
   "cell_type": "code",
   "execution_count": 4,
   "metadata": {
    "colab": {
     "base_uri": "https://localhost:8080/",
     "height": 170
    },
    "colab_type": "code",
    "id": "FMgz1m_Hj-Vh",
    "outputId": "8f15a3ea-1c55-4094-9256-6b8262fa7f04"
   },
   "outputs": [
    {
     "name": "stdout",
     "output_type": "stream",
     "text": [
      "Epoch 1/4\n",
      "25000/25000 [==============================] - 2s 87us/step - loss: 0.2192 - acc: 0.9460\n",
      "Epoch 2/4\n",
      "25000/25000 [==============================] - 2s 87us/step - loss: 0.1410 - acc: 0.9582\n",
      "Epoch 3/4\n",
      "25000/25000 [==============================] - 2s 85us/step - loss: 0.1105 - acc: 0.9674\n",
      "Epoch 4/4\n",
      "25000/25000 [==============================] - 2s 86us/step - loss: 0.0883 - acc: 0.9726\n"
     ]
    },
    {
     "data": {
      "text/plain": [
       "<keras.callbacks.History at 0x7f49f26b3588>"
      ]
     },
     "execution_count": 4,
     "metadata": {
      "tags": []
     },
     "output_type": "execute_result"
    }
   ],
   "source": [
    "# NN starts to overfit after about 4 epochs; \n",
    "# so we train NN from scratch for 4 epochs and using all training set\n",
    "\n",
    "network.fit(x_train, y_train, epochs = 4, batch_size=512)"
   ]
  },
  {
   "cell_type": "code",
   "execution_count": 5,
   "metadata": {
    "colab": {
     "base_uri": "https://localhost:8080/",
     "height": 68
    },
    "colab_type": "code",
    "id": "G95MQURRy7V0",
    "outputId": "2a9347af-7ce1-4a49-b59a-8c48b91b1753"
   },
   "outputs": [
    {
     "name": "stdout",
     "output_type": "stream",
     "text": [
      "25000/25000 [==============================] - 2s 75us/step\n",
      "test_loss:  0.502628615629673\n",
      "test_accuracy:  0.85868\n"
     ]
    }
   ],
   "source": [
    "# test the NN\n",
    "\n",
    "test_loss, test_accuracy = network.evaluate(x_test, y_test)\n",
    "print('test_loss: ',test_loss)\n",
    "print('test_accuracy: ', test_accuracy)"
   ]
  },
  {
   "cell_type": "code",
   "execution_count": 6,
   "metadata": {
    "colab": {
     "base_uri": "https://localhost:8080/",
     "height": 136
    },
    "colab_type": "code",
    "id": "K_5KKgDszkuJ",
    "outputId": "e38f70c7-f1b4-48f7-9bb5-40b08b9ce837"
   },
   "outputs": [
    {
     "data": {
      "text/plain": [
       "array([[0.01737729],\n",
       "       [0.9999993 ],\n",
       "       [0.9848728 ],\n",
       "       ...,\n",
       "       [0.1761246 ],\n",
       "       [0.13799521],\n",
       "       [0.6967368 ]], dtype=float32)"
      ]
     },
     "execution_count": 6,
     "metadata": {
      "tags": []
     },
     "output_type": "execute_result"
    }
   ],
   "source": [
    "# Use the NN for prediction\n",
    "\n",
    "network.predict(x_test)"
   ]
  }
 ],
 "metadata": {
  "colab": {
   "name": "assignment 2-NN-Movie Review classification using IMDB Dataset.ipynb",
   "provenance": [],
   "version": "0.3.2"
  },
  "kernelspec": {
   "display_name": "Python 3",
   "language": "python",
   "name": "python3"
  },
  "language_info": {
   "codemirror_mode": {
    "name": "ipython",
    "version": 3
   },
   "file_extension": ".py",
   "mimetype": "text/x-python",
   "name": "python",
   "nbconvert_exporter": "python",
   "pygments_lexer": "ipython3",
   "version": "3.6.6"
  }
 },
 "nbformat": 4,
 "nbformat_minor": 1
}
